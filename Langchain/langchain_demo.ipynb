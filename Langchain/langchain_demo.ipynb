{
 "cells": [
  {
   "cell_type": "code",
   "execution_count": 10,
   "id": "4eef369d",
   "metadata": {},
   "outputs": [
    {
     "name": "stdout",
     "output_type": "stream",
     "text": [
      "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\n"
     ]
    }
   ],
   "source": [
    "import os\n",
    "from secretkey import Groq_API_Key\n",
    "\n",
    "os.environ[\"GROQ_API_KEY\"] = Groq_API_Key\n",
    "print(os.environ[\"GROQ_API_KEY\"])"
   ]
  },
  {
   "cell_type": "code",
   "execution_count": 11,
   "id": "9eb047bc",
   "metadata": {},
   "outputs": [
    {
     "name": "stdout",
     "output_type": "stream",
     "text": [
      "\"Life of Pi\" is a novel by Yann Martel, published in 2001. The book is a magical realist tale that tells the story of a young boy named Pi Patel, who survives a shipwreck and finds himself stranded on a lifeboat with a Bengal tiger named Richard Parker.\n",
      "\n",
      "**Plot Summary:**\n",
      "\n",
      "The story begins in Pondicherry, India, where Pi Patel, a young boy of Indian and Irish descent, lives with his family and their zoo animals. Pi's father, a zoo owner, decides to move the family to Canada, but their ship sinks in a storm, leaving Pi as the sole human survivor.\n",
      "\n",
      "Pi finds himself on a lifeboat with a hyena, a zebra, an orangutan, and a 450-pound Bengal tiger named Richard Parker. The hyena and zebra die soon after, and the orangutan dies from a snake bite. Pi and Richard Parker are left alone on the lifeboat, and Pi must use his wits and resourcefulness to survive.\n",
      "\n",
      "**Themes:**\n",
      "\n",
      "The novel explores several themes, including:\n",
      "\n",
      "1. **Survival and resilience:** Pi's ability to survive against all odds is a testament to the human spirit's capacity for resilience.\n",
      "2. **Faith and spirituality:** Pi's journey is also a spiritual one, as he grapples with the meaning of life and the existence of God.\n",
      "3. **Cultural identity:** Pi's mixed heritage and his experiences in different cultures shape his identity and worldview.\n",
      "4. **Morality and ethics:** The novel raises questions about the morality of keeping animals in captivity and the ethics of human behavior towards animals.\n",
      "\n",
      "**Awards and Adaptations:**\n",
      "\n",
      "\"Life of Pi\" won the Man Booker Prize in 2002 and has been translated into over 40 languages. The novel was adapted into a film directed by Ang Lee in 2012, which won four Academy Awards, including Best Director.\n",
      "\n",
      "**Interesting Facts:**\n",
      "\n",
      "1. **Inspiration:** Yann Martel was inspired to write the novel after reading a news article about a ship that sank off the coast of South Africa, leaving a young boy as the sole survivor.\n",
      "2. **Research:** Martel spent several years researching the story, including learning about the culture and traditions of India and the behavior of Bengal tigers.\n",
      "3. **Symbolism:** The novel is full of symbolism, including the use of the lifeboat as a symbol of hope and the tiger as a symbol of power and danger.\n",
      "\n",
      "Overall, \"Life of Pi\" is a thought-provoking and visually stunning novel that explores the human condition and our relationship with the natural world.\n"
     ]
    }
   ],
   "source": [
    "from langchain_groq import ChatGroq\n",
    "\n",
    "llm = ChatGroq(\n",
    "    model=\"llama-3.1-8b-instant\",\n",
    "    temperature=0,\n",
    "    groq_api_key = os.environ[\"GROQ_API_KEY\"]\n",
    "    # other params...\n",
    ")\n",
    "\n",
    "response = llm.invoke(\"life of pie\")\n",
    "print(response.content)"
   ]
  },
  {
   "cell_type": "code",
   "execution_count": 12,
   "id": "bd002b2e",
   "metadata": {},
   "outputs": [
    {
     "name": "stdout",
     "output_type": "stream",
     "text": [
      "Here are some fancy name suggestions for your Indian restaurant:\n",
      "\n",
      "1. **Tandoori Bliss**: This name combines the idea of a traditional Indian cooking method (tandoori) with a sense of indulgence and pleasure.\n",
      "2. **Maharaja's Kitchen**: This name evokes the grandeur and luxury of Indian royalty, suggesting a high-end dining experience.\n",
      "3. **Spice Route Bazaar**: This name captures the essence of India's rich spice trade history and suggests a vibrant, exotic atmosphere.\n",
      "4. **Dhaba Royale**: A dhaba is a traditional Indian roadside eatery, but adding \"Royale\" gives it a luxurious twist, suggesting a high-end take on classic Indian cuisine.\n",
      "5. **Mumbai Mosaic**: This name celebrates the diversity and complexity of Indian culture, suggesting a restaurant that offers a wide range of flavors and experiences.\n",
      "6. **Saffron & Silk**: This name combines two luxurious and exotic ingredients, suggesting a high-end dining experience with a focus on Indian cuisine.\n",
      "7. **The Spice Merchant**: This name suggests a restaurant that offers a wide range of spices and flavors, with a focus on traditional Indian cuisine.\n",
      "8. **Kashmiri Nights**: This name evokes the beauty and romance of the Kashmir region, suggesting a restaurant that offers a unique and exotic dining experience.\n",
      "9. **Bollywood Bites**: This name combines the glamour of Indian cinema with the idea of delicious food, suggesting a fun and lively dining experience.\n",
      "10. **Garam Ghar**: This name means \"warm home\" in Hindi, suggesting a cozy and welcoming atmosphere, perfect for a family-run restaurant or a casual dining experience.\n",
      "\n",
      "I hope these suggestions help you find the perfect name for your Indian restaurant!\n"
     ]
    }
   ],
   "source": [
    "response = llm.invoke(\"I want to open a restaurant for Indian food. Suggest a fancy name for this\")\n",
    "print(response.content)"
   ]
  },
  {
   "cell_type": "code",
   "execution_count": 13,
   "id": "869d9697",
   "metadata": {},
   "outputs": [
    {
     "name": "stdout",
     "output_type": "stream",
     "text": [
      "Here are some fancy name suggestions for your Italian restaurant:\n",
      "\n",
      "1. **Bella Vita**: This name translates to \"beautiful life\" in Italian, evoking a sense of elegance and sophistication.\n",
      "2. **La Dolce Vita Ristorante**: This name combines the Italian phrase for \"the sweet life\" with the word \"ristorante,\" implying a high-end dining experience.\n",
      "3. **Tavola Italiana**: \"Tavola\" means \"table\" in Italian, and \"Italiana\" emphasizes the restaurant's focus on Italian cuisine.\n",
      "4. **Casa Bella Italia**: This name combines the Italian words for \"beautiful house\" and \"Italy,\" suggesting a warm and inviting atmosphere.\n",
      "5. **Il Giardino della Vita**: This name translates to \"the garden of life\" in Italian, implying a lush and vibrant dining experience.\n",
      "6. **Ristorante Fiorentino**: This name references the city of Florence, Italy, known for its rich culinary heritage and stunning architecture.\n",
      "7. **La Cucina Italiana**: This name emphasizes the restaurant's focus on traditional Italian cuisine and cooking techniques.\n",
      "8. **Bella Cucina**: This name combines the Italian words for \"beautiful\" and \"kitchen,\" suggesting a high-end dining experience with a focus on culinary excellence.\n",
      "9. **Il Ristorante Italiano**: This name emphasizes the restaurant's focus on traditional Italian cuisine and hospitality.\n",
      "10. **Vino e Cucina**: This name combines the Italian words for \"wine\" and \"kitchen,\" suggesting a restaurant that offers a wide selection of wines to pair with its delicious Italian dishes.\n",
      "\n",
      "I hope these suggestions help you find the perfect name for your Italian restaurant!\n"
     ]
    }
   ],
   "source": [
    "response = llm.invoke(\"I want to open a restaurant for Italian food. Suggest a fancy name for this\")\n",
    "print(response.content)"
   ]
  },
  {
   "cell_type": "code",
   "execution_count": 14,
   "id": "5146439a",
   "metadata": {},
   "outputs": [
    {
     "data": {
      "text/plain": [
       "'I want to open a restaurant for American food. Suggest only one fancy name for this'"
      ]
     },
     "execution_count": 14,
     "metadata": {},
     "output_type": "execute_result"
    }
   ],
   "source": [
    "from langchain.prompts import PromptTemplate\n",
    "\n",
    "prompt_template_name = PromptTemplate(\n",
    "    input_variables = ['cuisine'],\n",
    "    template = \"I want to open a restaurant for {cuisine} food. Suggest only one fancy name for this\"\n",
    ")\n",
    "\n",
    "prompt_template_name.format(cuisine = \"American\")"
   ]
  },
  {
   "cell_type": "code",
   "execution_count": 15,
   "id": "0d83f3ea",
   "metadata": {},
   "outputs": [
    {
     "name": "stderr",
     "output_type": "stream",
     "text": [
      "C:\\Users\\User\\AppData\\Local\\Temp\\ipykernel_9676\\3538599650.py:3: LangChainDeprecationWarning: The class `LLMChain` was deprecated in LangChain 0.1.17 and will be removed in 1.0. Use :meth:`~RunnableSequence, e.g., `prompt | llm`` instead.\n",
      "  chain  = LLMChain(llm=llm, prompt = prompt_template_name)\n"
     ]
    },
    {
     "data": {
      "text/plain": [
       "'Here\\'s a fancy name for an American restaurant:\\n\\n1. \"Liberty Bites\"'"
      ]
     },
     "execution_count": 15,
     "metadata": {},
     "output_type": "execute_result"
    }
   ],
   "source": [
    "from langchain.chains import LLMChain\n",
    "\n",
    "chain  = LLMChain(llm=llm, prompt = prompt_template_name)\n",
    "chain.run(\"American\")"
   ]
  },
  {
   "cell_type": "code",
   "execution_count": 16,
   "id": "b91a3043",
   "metadata": {},
   "outputs": [
    {
     "name": "stdout",
     "output_type": "stream",
     "text": [
      "I'm not able to provide real-time or up-to-date information on stock prices, including Nifty. However, I can suggest some options to find the information you're looking for:\n",
      "\n",
      "1. Check the official website of the National Stock Exchange (NSE) of India, which operates the Nifty index.\n",
      "2. Visit a financial news website, such as Bloomberg, CNBC, or Reuters, for the latest stock market updates and Nifty closing prices.\n",
      "3. Use a stock market data provider website, such as Yahoo Finance or Google Finance, to get the latest Nifty closing prices.\n",
      "\n",
      "If you're looking for a specific date, please let me know, and I'll try to provide the information available to me.\n"
     ]
    }
   ],
   "source": [
    "llm = ChatGroq(\n",
    "    model=\"llama-3.1-8b-instant\",\n",
    "    temperature=0.6,\n",
    "    groq_api_key = os.environ[\"GROQ_API_KEY\"]\n",
    "    # other params...\n",
    ")\n",
    "\n",
    "response = llm.invoke(\"where did nifty close today\")\n",
    "print(response.content)"
   ]
  },
  {
   "cell_type": "code",
   "execution_count": 17,
   "id": "4847ce9f",
   "metadata": {},
   "outputs": [],
   "source": [
    "prompt_template_name = PromptTemplate(\n",
    "    input_variables = ['cuisine'],\n",
    "    template = \"I want to open a restaurant for {cuisine} food. Suggest only one fancy name for this\"\n",
    ")\n",
    "\n",
    "name_chain = LLMChain(llm=llm, prompt = prompt_template_name)\n",
    "\n",
    "prompt_template_items = PromptTemplate(\n",
    "    input_variables= ['restaurant_name'],\n",
    "    template = \"\"\"suggest some menu items for {restaurant_name}. Return it as a comma separated list\"\"\"\n",
    "\n",
    ")\n",
    "\n",
    "food_items_chain = LLMChain(llm=llm, prompt = prompt_template_items)"
   ]
  },
  {
   "cell_type": "code",
   "execution_count": 18,
   "id": "181607e0",
   "metadata": {},
   "outputs": [
    {
     "name": "stdout",
     "output_type": "stream",
     "text": [
      "Here are some menu item suggestions for \"Bella Vita\" Italian restaurant:\n",
      "\n",
      "Bruschetta alla Toscana (grilled bread with fresh tomatoes and basil), Insalata Caprese (fresh mozzarella, tomato, and basil salad), Carpaccio di Manzo (thinly sliced raw beef carpaccio), Risotto alla Milanese (saffron-infused risotto with ossobuco), Spaghetti alle Vongole (spaghetti with clams and garlic), Pollo alla Cacciatora (hunter-style chicken with mushrooms and bell peppers), Vitello alla Marsala (veal scallopine with Marsala wine and mushrooms), Fettuccine al Tartufo (fettuccine with truffle sauce and Parmesan), Polpo alla Siciliana (grilled octopus with cherry tomatoes and capers), Cannoli Siciliani (fried pastry shells with sweetened ricotta and chocolate chips).\n",
      "\n",
      "Desserts:\n",
      "Tiramisù (coffee-soaked ladyfingers with mascarpone and cocoa), Panna Cotta (creamy vanilla pudding with fruit sauce), Gelato alla Limone (lemon gelato), Zeppole (fried dough balls dusted with powdered sugar), Pizzelle (thin, crispy waffle cookies with anise and powdered sugar).\n",
      "\n",
      "Beverages:\n",
      "Peroni (Italian beer), Prosecco (Italian sparkling wine), Limoncello (Italian lemon liqueur), Espresso Italiano (strong Italian-style coffee), Fresh-squeezed Lemonade or Iced Tea with Italian herbs.\n",
      "\n",
      "Note: These menu items are inspired by Italian cuisine and are meant to be a selection of dishes that evoke the rich culture and romance of Italy.\n"
     ]
    }
   ],
   "source": [
    "from langchain.chains import SimpleSequentialChain\n",
    "\n",
    "chain = SimpleSequentialChain(chains = [name_chain, food_items_chain])\n",
    "response = chain.run(\"Italian\")\n",
    "print(response)"
   ]
  },
  {
   "cell_type": "code",
   "execution_count": 19,
   "id": "2f7dc8cc",
   "metadata": {},
   "outputs": [],
   "source": [
    "llm = ChatGroq(\n",
    "    model=\"llama-3.1-8b-instant\",\n",
    "    temperature=0.7,\n",
    "    groq_api_key = os.environ[\"GROQ_API_KEY\"]\n",
    "    # other params...\n",
    ")\n",
    "\n"
   ]
  },
  {
   "cell_type": "code",
   "execution_count": 20,
   "id": "f671a3f0",
   "metadata": {},
   "outputs": [],
   "source": [
    "prompt_template_name = PromptTemplate(\n",
    "    input_variables = ['cuisine'],\n",
    "    template = \"I want to open a restaurant for {cuisine} food. Suggest only one fancy name for this\"\n",
    ")\n",
    "\n",
    "name_chain = LLMChain(llm=llm, prompt = prompt_template_name, output_key = \"restaurant_name\")\n",
    "\n",
    "prompt_template_items = PromptTemplate(\n",
    "    input_variables= ['restaurant_name'],\n",
    "    template = \"\"\"suggest some menu items for {restaurant_name}. Return it as a comma separated list\"\"\"\n",
    "\n",
    ")\n",
    "\n",
    "food_items_chain = LLMChain(llm=llm, prompt = prompt_template_items, output_key = \"menu_items\")"
   ]
  },
  {
   "cell_type": "code",
   "execution_count": 21,
   "id": "160635bb",
   "metadata": {},
   "outputs": [
    {
     "name": "stderr",
     "output_type": "stream",
     "text": [
      "C:\\Users\\User\\AppData\\Local\\Temp\\ipykernel_9676\\1954877650.py:9: LangChainDeprecationWarning: The method `Chain.__call__` was deprecated in langchain 0.1.0 and will be removed in 1.0. Use :meth:`~invoke` instead.\n",
      "  chain({'cuisine': 'Arabian'})\n"
     ]
    },
    {
     "data": {
      "text/plain": [
       "{'cuisine': 'Arabian',\n",
       " 'restaurant_name': 'Here\\'s a fancy name suggestion for your Arabian restaurant:\\n\\n1. \"Miraj Al Aylam\" \\n- \\'Miraj\\' is an Arabic word for \\'ladder\\', which symbolizes a climb to a higher level of taste and experience, and \\'Al Aylam\\' translates to \\'of the senses\\', implying a sensory culinary journey.',\n",
       " 'menu_items': 'Here are some menu item suggestions for \"Miraj Al Aylam\" in a comma-separated list:\\n\\nMuhallabia dessert, lamb kofta with sumac and pomegranate, spiced coffee-glazed dates, grilled octopus with preserved lemon and za\\'atar, majboos rice with saffron and toasted almonds, roasted eggplant with garlic and sumac, slow-cooked Arabic coffee-infused lamb shanks, falafel with tahini and pickled turnips, rose water and cardamom-infused baklava, mint and cucumber-infused gulf water sorbet.\\n\\nNote: Each dish is carefully chosen to evoke the senses and provide a unique culinary experience, just like the name \"Miraj Al Aylam\" suggests.'}"
      ]
     },
     "execution_count": 21,
     "metadata": {},
     "output_type": "execute_result"
    }
   ],
   "source": [
    "from langchain.chains import SequentialChain\n",
    "\n",
    "chain = SequentialChain(\n",
    "    chains = [name_chain, food_items_chain],\n",
    "    input_variables = ['cuisine'],\n",
    "    output_variables = ['restaurant_name', 'menu_items']\n",
    ")\n",
    "\n",
    "chain({'cuisine': 'Arabian'})"
   ]
  },
  {
   "cell_type": "markdown",
   "id": "1eec473b",
   "metadata": {},
   "source": [
    "### Agents"
   ]
  },
  {
   "cell_type": "code",
   "execution_count": 22,
   "id": "c1e114d8",
   "metadata": {},
   "outputs": [
    {
     "name": "stdout",
     "output_type": "stream",
     "text": [
      "\n",
      "\n",
      "\u001b[1m> Entering new AgentExecutor chain...\u001b[0m\n",
      "\u001b[32;1m\u001b[1;3mThought: I need to find out Elon Musk's birthdate and calculate his age as of April 17, 2025.\n",
      "Action: wikipedia\n",
      "Action Input: Elon Musk\u001b[0m\n",
      "Observation: \u001b[36;1m\u001b[1;3mPage: Elon Musk\n",
      "Summary: Elon Reeve Musk ( EE-lon; born June 28, 1971) is a businessman known for his leadership of Tesla, SpaceX, and X (formerly Twitter). Since 2025, he has been a senior advisor to United States President Donald Trump and the de facto head of the Department of Government Efficiency (DOGE). Musk is the wealthiest person in the world; as of March 2025, Forbes estimates his net worth to be US$345 billion. He was named Time magazine's Person of the Year in 2021.\n",
      "Born to a wealthy family in Pretoria, South Africa, Musk emigrated in 1989 to Canada. He graduated from the University of Pennsylvania in the U.S. before moving to California to pursue business ventures. In 1995, Musk co-founded the software company Zip2. Following its sale in 1999, he co-founded X.com, an online payment company that later merged to form PayPal, which was acquired by eBay in 2002. That year, Musk also became a U.S. citizen.\n",
      "In 2002, Musk founded the space technology company SpaceX, becoming its CEO and chief engineer; the company has since led innovations in reusable rockets and commercial spaceflight. Musk joined the automaker Tesla as an early investor in 2004 and became its CEO and product architect in 2008; it has since become a leader in electric vehicles. In 2015, he co-founded OpenAI to advance artificial intelligence research but later left; growing discontent with the organization's direction in the 2020s led him to establish xAI. In 2022, he acquired the social network Twitter, implementing significant changes and rebranding it as X in 2023. In January 2025, he was appointed head of Trump's newly created DOGE. His other businesses include the neurotechnology company Neuralink, which he co-founded in 2016, and the tunneling company the Boring Company, which he founded in 2017.\n",
      "Musk's political activities and views have made him a polarizing figure. He has been criticized for making unscientific and misleading statements, including COVID-19 misinformation and promoting conspiracy theories, and affirming antisemitic and transphobic comments. His acquisition of Twitter was controversial due to a subsequent increase in hate speech and the spread of misinformation on the service. Especially since the 2024 U.S. presidential election, Musk has been heavily involved in politics as a vocal supporter of Trump. Musk was the largest donor in the 2024 U.S. presidential election and is a supporter of global far-right figures, causes, and political parties. His role in the second Trump administration, particularly in regards to DOGE, has attracted public backlash.\n",
      "\n",
      "\n",
      "\n",
      "Page: Wealth of Elon Musk\n",
      "Summary: Elon Musk is the wealthiest person in the world, with an estimated net worth of US$330 billion as of March 2025, according to the Bloomberg Billionaires Index, and $359.5 billion according to Forbes, primarily from his ownership stakes in Tesla and SpaceX. \n",
      "Having been first listed on the Forbes Billionaires List in 2012, around 75% of Musk's wealth was derived from Tesla stock in November 2020. Describing himself as \"cash poor\", he became the first person in the world to have a net worth above $300 billion a year later. By December 2024, he became the first person to reach a net worth of $400 billion.\n",
      "\n",
      "Page: Elon Musk salute controversy\n",
      "Summary: On January 20, 2025, while speaking at a rally celebrating U.S. president Donald Trump's second inauguration, businessman and political figure Elon Musk twice made a salute interpreted by some as a Nazi or a fascist Roman salute.\n",
      "Multiple European political parties demanded that Musk be banned from entering their countries. Neo-Nazi and white supremacist groups celebrated the salutes. On his own social media platform, X (formerly Twitter), Musk dismissed the accusations of Nazi sympathies, derided them as being politicized, and described them as a \"tired\" attack. The Anti-Defamation League defended Musk and argued that the gesture carried no significant meaning, but other Jewish organizations have conde\u001b[0m\n",
      "Thought:\u001b[32;1m\u001b[1;3mThought: I now know Elon Musk's birthdate and can calculate his age as of April 17, 2025, based on the information provided in the Wikipedia summaries.\n",
      "Action: Calculator\n",
      "Action Input: \n",
      "- birth year: 1971\n",
      "- current year: 2025\n",
      "- birth month: 6 (June)\n",
      "- current month: 4 (April)\n",
      "- age formula: 2025 - 1971 + (4 > 6) \n",
      "Action Input: age = 2025 - 1971 + (4 > 6) = 2025 - 1971 + 0 = 54\u001b[0m\n",
      "Observation: \u001b[33;1m\u001b[1;3mAnswer:  54\u001b[0m\n",
      "Thought:\u001b[32;1m\u001b[1;3mQuestion: When was elon musk born and whats his age as on 17-April-2025?\n",
      "Thought:Thought: I need to find out Elon Musk's birthdate and calculate his age as of April 17, 2025.\n",
      "Action: wikipedia\n",
      "Action Input: Elon Musk\u001b[0m\n",
      "Observation: \u001b[36;1m\u001b[1;3mPage: Elon Musk\n",
      "Summary: Elon Reeve Musk ( EE-lon; born June 28, 1971) is a businessman known for his leadership of Tesla, SpaceX, and X (formerly Twitter). Since 2025, he has been a senior advisor to United States President Donald Trump and the de facto head of the Department of Government Efficiency (DOGE). Musk is the wealthiest person in the world; as of March 2025, Forbes estimates his net worth to be US$345 billion. He was named Time magazine's Person of the Year in 2021.\n",
      "Born to a wealthy family in Pretoria, South Africa, Musk emigrated in 1989 to Canada. He graduated from the University of Pennsylvania in the U.S. before moving to California to pursue business ventures. In 1995, Musk co-founded the software company Zip2. Following its sale in 1999, he co-founded X.com, an online payment company that later merged to form PayPal, which was acquired by eBay in 2002. That year, Musk also became a U.S. citizen.\n",
      "In 2002, Musk founded the space technology company SpaceX, becoming its CEO and chief engineer; the company has since led innovations in reusable rockets and commercial spaceflight. Musk joined the automaker Tesla as an early investor in 2004 and became its CEO and product architect in 2008; it has since become a leader in electric vehicles. In 2015, he co-founded OpenAI to advance artificial intelligence research but later left; growing discontent with the organization's direction in the 2020s led him to establish xAI. In 2022, he acquired the social network Twitter, implementing significant changes and rebranding it as X in 2023. In January 2025, he was appointed head of Trump's newly created DOGE. His other businesses include the neurotechnology company Neuralink, which he co-founded in 2016, and the tunneling company the Boring Company, which he founded in 2017.\n",
      "Musk's political activities and views have made him a polarizing figure. He has been criticized for making unscientific and misleading statements, including COVID-19 misinformation and promoting conspiracy theories, and affirming antisemitic and transphobic comments. His acquisition of Twitter was controversial due to a subsequent increase in hate speech and the spread of misinformation on the service. Especially since the 2024 U.S. presidential election, Musk has been heavily involved in politics as a vocal supporter of Trump. Musk was the largest donor in the 2024 U.S. presidential election and is a supporter of global far-right figures, causes, and political parties. His role in the second Trump administration, particularly in regards to DOGE, has attracted public backlash.\n",
      "\n",
      "\n",
      "\n",
      "Page: Wealth of Elon Musk\n",
      "Summary: Elon Musk is the wealthiest person in the world, with an estimated net worth of US$330 billion as of March 2025, according to the Bloomberg Billionaires Index, and $359.5 billion according to Forbes, primarily from his ownership stakes in Tesla and SpaceX. \n",
      "Having been first listed on the Forbes Billionaires List in 2012, around 75% of Musk's wealth was derived from Tesla stock in November 2020. Describing himself as \"cash poor\", he became the first person in the world to have a net worth above $300 billion a year later. By December 2024, he became the first person to reach a net worth of $400 billion.\n",
      "\n",
      "Page: Elon Musk salute controversy\n",
      "Summary: On January 20, 2025, while speaking at a rally celebrating U.S. president Donald Trump's second inauguration, businessman and political figure Elon Musk twice made a salute interpreted by some as a Nazi or a fascist Roman salute.\n",
      "Multiple European political parties demanded that Musk be banned from entering their countries. Neo-Nazi and white supremacist groups celebrated the salutes. On his own social media platform, X (formerly Twitter), Musk dismissed the accusations of Nazi sympathies, derided them as being politicized, and described them as a \"tired\" attack. The Anti-Defamation League defended Musk and argued that the gesture carried no significant meaning, but other Jewish organizations have conde\u001b[0m\n",
      "Thought:\u001b[32;1m\u001b[1;3mThought: I now know Elon Musk's birthdate and can confirm the accuracy of the calculation.\n",
      "Final Answer: Elon Musk was born on June 28, 1971, and his age as of April 17, 2025, is 54 years old.\u001b[0m\n",
      "\n",
      "\u001b[1m> Finished chain.\u001b[0m\n"
     ]
    },
    {
     "data": {
      "text/plain": [
       "'Elon Musk was born on June 28, 1971, and his age as of April 17, 2025, is 54 years old.'"
      ]
     },
     "execution_count": 22,
     "metadata": {},
     "output_type": "execute_result"
    }
   ],
   "source": [
    "from langchain.agents import AgentType, initialize_agent, load_tools\n",
    "\n",
    "tools = load_tools([\"wikipedia\", \"llm-math\"], llm = llm)\n",
    "\n",
    "agent = initialize_agent(\n",
    "    tools=tools,\n",
    "    llm=llm,\n",
    "    agent=AgentType.ZERO_SHOT_REACT_DESCRIPTION,\n",
    "    verbose = True\n",
    ")\n",
    "agent.run(\"When was elon musk born and whats his age as on 17-April-2025?\")"
   ]
  },
  {
   "cell_type": "markdown",
   "id": "a00ec6e9",
   "metadata": {},
   "source": [
    "### Memory"
   ]
  },
  {
   "cell_type": "code",
   "execution_count": 23,
   "id": "4f7cc707",
   "metadata": {},
   "outputs": [
    {
     "name": "stdout",
     "output_type": "stream",
     "text": [
      "Here's a fancy name for your Mexican restaurant:\n",
      "\n",
      "1. \"El Fuego y Luna\" (which translates to \"The Fire and the Moon\" in Spanish)\n"
     ]
    }
   ],
   "source": [
    "from langchain.memory import ConversationBufferMemory\n",
    "\n",
    "memory = ConversationBufferMemory()\n",
    "\n",
    "chain = LLMChain(llm=llm, prompt = prompt_template_name, memory=memory)\n",
    "name = chain.run(\"Mexican\")\n",
    "\n",
    "print(name)"
   ]
  },
  {
   "cell_type": "code",
   "execution_count": 25,
   "id": "58f47709",
   "metadata": {},
   "outputs": [
    {
     "name": "stdout",
     "output_type": "stream",
     "text": [
      "Here's a suggestion for a fancy name for your Indian restaurant:\n",
      "\n",
      "1. \"Dakshin Spice House\" \n",
      "\n",
      "The word \"Dakshin\" means 'south' in Sanskrit, which is a nod to the southern region of India known for its rich and flavorful cuisine. The addition of \"Spice House\" evokes a sense of luxury and sophistication, suggesting a high-end dining experience.\n"
     ]
    }
   ],
   "source": [
    "chain = LLMChain(llm=llm, prompt = prompt_template_name, memory=memory)\n",
    "name = chain.run(\"Indian\")\n",
    "print(name)"
   ]
  },
  {
   "cell_type": "code",
   "execution_count": 27,
   "id": "603cc71e",
   "metadata": {},
   "outputs": [
    {
     "name": "stdout",
     "output_type": "stream",
     "text": [
      "Human: Mexican\n",
      "AI: Here's a fancy name for your Mexican restaurant:\n",
      "\n",
      "1. \"El Fuego y Luna\" (which translates to \"The Fire and the Moon\" in Spanish)\n",
      "Human: Indian\n",
      "AI: Here's a fancy name suggestion for your Indian restaurant:\n",
      "\n",
      "\"Tandoori Oasis\"\n",
      "\n",
      "This name combines the idea of traditional Indian tandoor cooking with the exotic and luxurious feel of an oasis, evoking a sense of warmth, comfort, and indulgence.\n",
      "Human: Indian\n",
      "AI: Here's a suggestion for a fancy name for your Indian restaurant:\n",
      "\n",
      "1. \"Dakshin Spice House\" \n",
      "\n",
      "The word \"Dakshin\" means 'south' in Sanskrit, which is a nod to the southern region of India known for its rich and flavorful cuisine. The addition of \"Spice House\" evokes a sense of luxury and sophistication, suggesting a high-end dining experience.\n"
     ]
    }
   ],
   "source": [
    "print(chain.memory.buffer)"
   ]
  },
  {
   "cell_type": "code",
   "execution_count": 30,
   "id": "d9bd88fc",
   "metadata": {},
   "outputs": [
    {
     "name": "stdout",
     "output_type": "stream",
     "text": [
      "The following is a friendly conversation between a human and an AI. The AI is talkative and provides lots of specific details from its context. If the AI does not know the answer to a question, it truthfully says it does not know.\n",
      "\n",
      "Current conversation:\n",
      "{history}\n",
      "Human: {input}\n",
      "AI:\n"
     ]
    }
   ],
   "source": [
    "from langchain.chains import ConversationChain\n",
    "\n",
    "convo = ConversationChain(llm=llm)\n",
    "print(convo.prompt.template)"
   ]
  },
  {
   "cell_type": "code",
   "execution_count": 31,
   "id": "53d58431",
   "metadata": {},
   "outputs": [
    {
     "data": {
      "text/plain": [
       "\"I'm happy to help you with that. However, I need to clarify that there might be some confusion since the cricket world cup is held every 4 years. The most recent edition of the ICC Cricket World Cup took place in 2023. Unfortunately, I don't have information on the specific tournament you might be referring to, such as the Women's Cricket World Cup or an under-19 tournament. \\n\\nIf you're interested in knowing the winner of the 2023 ICC Men's Cricket World Cup in India, Pakistan, and the United Arab Emirates, I can tell you that Australia won the tournament by defeating India in the final, which took place on November 19, 2023, at the Narendra Modi Stadium in Ahmedabad, India.\""
      ]
     },
     "execution_count": 31,
     "metadata": {},
     "output_type": "execute_result"
    }
   ],
   "source": [
    "convo.run(\"Who won the latest cricket world cup?\")"
   ]
  },
  {
   "cell_type": "code",
   "execution_count": 32,
   "id": "9c024bfc",
   "metadata": {},
   "outputs": [
    {
     "data": {
      "text/plain": [
       "\"A simple math question. I'm happy to help you with that. However, I must clarify that my primary function is to provide information and answer questions to the best of my knowledge, but I'm not a full-fledged calculator, and my math capabilities are limited to basic arithmetic operations.\\n\\nIf I recall my math fundamentals correctly, 5 + 5 is a basic addition problem, and the result is 10.\\n\\nIf you'd like to perform more complex math operations or calculations involving fractions, decimals, or exponents, I may not be able to provide an accurate answer. However, I can try my best to help you with simple math questions like this one.\""
      ]
     },
     "execution_count": 32,
     "metadata": {},
     "output_type": "execute_result"
    }
   ],
   "source": [
    "convo.run(\"5+5\")"
   ]
  },
  {
   "cell_type": "code",
   "execution_count": 33,
   "id": "9abdbe0b",
   "metadata": {},
   "outputs": [
    {
     "data": {
      "text/plain": [
       "\"I'm glad you're interested in knowing more about the winning team captain. To provide a detailed answer, I'll need to clarify that you might be referring to the ICC Men's Cricket World Cup 2023, which I mentioned earlier. \\n\\nIf that's the case, the winning team captain was Pat Cummins, who led the Australian team to victory in the final.\""
      ]
     },
     "execution_count": 33,
     "metadata": {},
     "output_type": "execute_result"
    }
   ],
   "source": [
    "convo.run(\"who is the winning  team captain?\")"
   ]
  },
  {
   "cell_type": "code",
   "execution_count": 35,
   "id": "8daa089e",
   "metadata": {},
   "outputs": [
    {
     "name": "stdout",
     "output_type": "stream",
     "text": [
      "Human: Who won the latest cricket world cup?\n",
      "AI: I'm happy to help you with that. However, I need to clarify that there might be some confusion since the cricket world cup is held every 4 years. The most recent edition of the ICC Cricket World Cup took place in 2023. Unfortunately, I don't have information on the specific tournament you might be referring to, such as the Women's Cricket World Cup or an under-19 tournament. \n",
      "\n",
      "If you're interested in knowing the winner of the 2023 ICC Men's Cricket World Cup in India, Pakistan, and the United Arab Emirates, I can tell you that Australia won the tournament by defeating India in the final, which took place on November 19, 2023, at the Narendra Modi Stadium in Ahmedabad, India.\n",
      "Human: 5+5\n",
      "AI: A simple math question. I'm happy to help you with that. However, I must clarify that my primary function is to provide information and answer questions to the best of my knowledge, but I'm not a full-fledged calculator, and my math capabilities are limited to basic arithmetic operations.\n",
      "\n",
      "If I recall my math fundamentals correctly, 5 + 5 is a basic addition problem, and the result is 10.\n",
      "\n",
      "If you'd like to perform more complex math operations or calculations involving fractions, decimals, or exponents, I may not be able to provide an accurate answer. However, I can try my best to help you with simple math questions like this one.\n",
      "Human: who is the winning  team captain?\n",
      "AI: I'm glad you're interested in knowing more about the winning team captain. To provide a detailed answer, I'll need to clarify that you might be referring to the ICC Men's Cricket World Cup 2023, which I mentioned earlier. \n",
      "\n",
      "If that's the case, the winning team captain was Pat Cummins, who led the Australian team to victory in the final.\n"
     ]
    }
   ],
   "source": [
    "print(convo.memory.buffer)"
   ]
  },
  {
   "cell_type": "code",
   "execution_count": null,
   "id": "db5da3e6",
   "metadata": {},
   "outputs": [],
   "source": [
    "from langchain.memory import ConversationBufferWindowMemory\n",
    "\n",
    "memory = ConversationBufferWindowMemory(k=1)"
   ]
  },
  {
   "cell_type": "code",
   "execution_count": 36,
   "id": "aeeebc3f",
   "metadata": {},
   "outputs": [
    {
     "name": "stdout",
     "output_type": "stream",
     "text": [
      "The following is a friendly conversation between a human and an AI. The AI is talkative and provides lots of specific details from its context. If the AI does not know the answer to a question, it truthfully says it does not know.\n",
      "\n",
      "Current conversation:\n",
      "{history}\n",
      "Human: {input}\n",
      "AI:\n"
     ]
    }
   ],
   "source": [
    "convo = ConversationChain(llm=llm)\n",
    "print(convo.prompt.template)"
   ]
  },
  {
   "cell_type": "code",
   "execution_count": 37,
   "id": "f85f4c8c",
   "metadata": {},
   "outputs": [
    {
     "data": {
      "text/plain": [
       "\"I'm happy to help you with that. However, I need to clarify that FIFA World Cup tournaments occur every four years. To provide an accurate answer, I'd need to know which specific FIFA World Cup you're referring to. Are you thinking of the 2018 FIFA World Cup in Russia, the 2022 FIFA World Cup in Qatar, or perhaps a more recent one?\""
      ]
     },
     "execution_count": 37,
     "metadata": {},
     "output_type": "execute_result"
    }
   ],
   "source": [
    "convo.run(\"Who won the latest fifa world cup?\")"
   ]
  },
  {
   "cell_type": "code",
   "execution_count": 38,
   "id": "73c894ef",
   "metadata": {},
   "outputs": [
    {
     "data": {
      "text/plain": [
       "\"The 2022 FIFA World Cup indeed took place in Qatar. Argentina won the tournament, defeating France 4-2 in a penalty shootout after the match ended 3-3 in extra time. This was Argentina's third FIFA World Cup title, with the team's first two victories occurring in 1978 and 1986. Lionel Messi was awarded the Golden Ball as the tournament's best player, and he also won the Golden Boot as the top scorer with seven goals.\""
      ]
     },
     "execution_count": 38,
     "metadata": {},
     "output_type": "execute_result"
    }
   ],
   "source": [
    "convo.run(\"Qatar\")"
   ]
  },
  {
   "cell_type": "code",
   "execution_count": 39,
   "id": "1f4be9e9",
   "metadata": {},
   "outputs": [
    {
     "data": {
      "text/plain": [
       "\"The 2018 FIFA World Cup in Russia. That was a thrilling tournament. France won the title, defeating Croatia 4-2 in the final. Kylian Mbappé became the youngest player to score in a World Cup final, and he also won the Young Player Award for his outstanding performance in the tournament. The final match was played at the Luzhniki Stadium in Moscow, which has a seating capacity of over 81,000 spectators. France's victory marked their second FIFA World Cup title, with their first one occurring in 1998. Didier Deschamps, the French team's manager, also won the World Cup as a player in 1998, making him the first person to win the title as both a player and a manager.\""
      ]
     },
     "execution_count": 39,
     "metadata": {},
     "output_type": "execute_result"
    }
   ],
   "source": [
    "convo.run(\"Russia\")"
   ]
  },
  {
   "cell_type": "code",
   "execution_count": 40,
   "id": "19e29eb0",
   "metadata": {},
   "outputs": [
    {
     "data": {
      "text/plain": [
       "\"During the 2018 FIFA World Cup in Russia, the captain of the French national team was Hugo Lloris, and he also captained the team that won the title in 2020 UEFA Nations League. For the 2022 FIFA World Cup, the captain of the Argentine team was Lionel Messi, who led his team to victory throughout the tournament. It's worth noting that team captains can vary from one tournament to another, and sometimes, teams may have multiple captains or vice-captains. If you're referring to a specific tournament that I'm not aware of, please provide me with more context or information so I can try to provide a more accurate answer.\""
      ]
     },
     "execution_count": 40,
     "metadata": {},
     "output_type": "execute_result"
    }
   ],
   "source": [
    "convo.run(\"who is the captain\")"
   ]
  }
 ],
 "metadata": {
  "kernelspec": {
   "display_name": "myenv",
   "language": "python",
   "name": "python3"
  },
  "language_info": {
   "codemirror_mode": {
    "name": "ipython",
    "version": 3
   },
   "file_extension": ".py",
   "mimetype": "text/x-python",
   "name": "python",
   "nbconvert_exporter": "python",
   "pygments_lexer": "ipython3",
   "version": "3.11.0"
  }
 },
 "nbformat": 4,
 "nbformat_minor": 5
}
