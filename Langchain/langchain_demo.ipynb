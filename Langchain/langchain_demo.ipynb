{
 "cells": [
  {
   "cell_type": "code",
   "execution_count": 4,
   "id": "4eef369d",
   "metadata": {},
   "outputs": [
    {
     "name": "stdout",
     "output_type": "stream",
     "text": [
      "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\n"
     ]
    }
   ],
   "source": [
    "import os\n",
    "from secretkey import Groq_API_Key\n",
    "\n",
    "os.environ[\"GROQ_API_KEY\"] = Groq_API_Key\n",
    "print(os.environ[\"GROQ_API_KEY\"])"
   ]
  },
  {
   "cell_type": "code",
   "execution_count": 7,
   "id": "9eb047bc",
   "metadata": {},
   "outputs": [
    {
     "name": "stdout",
     "output_type": "stream",
     "text": [
      "\"Life of Pi\" is a novel by Yann Martel, published in 2001. The book is a magical realist tale that tells the story of a young boy named Pi Patel, who survives a shipwreck and finds himself stranded on a lifeboat with a Bengal tiger named Richard Parker.\n",
      "\n",
      "**Plot Summary:**\n",
      "\n",
      "The story begins in Pondicherry, India, where Pi Patel, a young boy of Indian and Irish descent, lives with his family and their zoo animals. Pi's father, a zoo owner, decides to move the family to Canada, but their ship sinks in a storm, leaving Pi as the sole human survivor.\n",
      "\n",
      "Pi finds himself on a lifeboat with a hyena, a zebra, an orangutan, and a 450-pound Bengal tiger named Richard Parker. The hyena and zebra die soon after, and the orangutan dies from starvation. Pi and Richard Parker are left alone on the lifeboat, and Pi must use his wits and resourcefulness to survive.\n",
      "\n",
      "**Themes:**\n",
      "\n",
      "The novel explores several themes, including:\n",
      "\n",
      "1. **Survival and resilience:** Pi's ability to survive against all odds is a testament to the human spirit's capacity for resilience.\n",
      "2. **Faith and spirituality:** Pi's journey is also a spiritual one, as he grapples with the meaning of life and the existence of God.\n",
      "3. **Cultural identity:** Pi's mixed heritage and his experiences in different cultures shape his identity and worldview.\n",
      "4. **Morality and ethics:** The novel raises questions about the morality of keeping animals in captivity and the ethics of human behavior towards animals.\n",
      "\n",
      "**Awards and Adaptations:**\n",
      "\n",
      "\"Life of Pi\" won the Man Booker Prize in 2002 and has been translated into over 40 languages. The novel was adapted into a film directed by Ang Lee in 2012, which won four Academy Awards, including Best Director.\n",
      "\n",
      "**Interesting Facts:**\n",
      "\n",
      "1. **Inspiration:** Yann Martel was inspired to write the novel after reading a news article about a ship that sank in the Pacific Ocean, leaving a few survivors behind.\n",
      "2. **Research:** Martel spent several years researching the story, including learning about the culture and traditions of India and the behavior of Bengal tigers.\n",
      "3. **Symbolism:** The novel is full of symbolism, including the use of the lifeboat as a symbol of hope and the tiger as a symbol of power and danger.\n",
      "\n",
      "Overall, \"Life of Pi\" is a thought-provoking and visually stunning novel that explores the human condition, faith, and the relationship between humans and animals.\n"
     ]
    }
   ],
   "source": [
    "from langchain_groq import ChatGroq\n",
    "\n",
    "llm = ChatGroq(\n",
    "    model=\"llama-3.1-8b-instant\",\n",
    "    temperature=0,\n",
    "    groq_api_key = os.environ[\"GROQ_API_KEY\"]\n",
    "    # other params...\n",
    ")\n",
    "\n",
    "response = llm.invoke(\"life of pie\")\n",
    "print(response.content)"
   ]
  },
  {
   "cell_type": "code",
   "execution_count": 9,
   "id": "bd002b2e",
   "metadata": {},
   "outputs": [
    {
     "name": "stdout",
     "output_type": "stream",
     "text": [
      "Here are some fancy name suggestions for your Indian restaurant:\n",
      "\n",
      "1. **Tandoori Bliss**: This name combines the idea of a traditional Indian cooking method (tandoori) with a sense of indulgence and pleasure.\n",
      "2. **Maharaja's Kitchen**: This name evokes the grandeur and luxury of Indian royalty, suggesting a high-end dining experience.\n",
      "3. **Spice Route Bazaar**: This name captures the essence of India's rich spice trade history and suggests a vibrant, exotic atmosphere.\n",
      "4. **Dhaba Royale**: A dhaba is a traditional Indian roadside eatery, but adding \"Royale\" gives it a luxurious twist, suggesting a high-end take on classic Indian cuisine.\n",
      "5. **Mumbai Mosaic**: This name celebrates the diversity and complexity of Indian culture, suggesting a restaurant that offers a wide range of flavors and experiences.\n",
      "6. **Saffron & Silk**: This name combines two luxurious and exotic ingredients, suggesting a high-end dining experience with a focus on Indian cuisine.\n",
      "7. **The Spice Merchant**: This name suggests a restaurant that offers a wide range of spices and flavors, with a focus on traditional Indian cuisine.\n",
      "8. **Kashmiri Nights**: This name evokes the beauty and romance of the Kashmir region, suggesting a restaurant that offers a unique and exotic dining experience.\n",
      "9. **Bollywood Bites**: This name combines the glamour of Indian cinema with the idea of delicious food, suggesting a fun and lively dining experience.\n",
      "10. **Garam Ghar**: This name means \"warm home\" in Hindi, suggesting a cozy and welcoming atmosphere, perfect for a family-run restaurant or a casual dining experience.\n",
      "\n",
      "I hope these suggestions help you find the perfect name for your Indian restaurant!\n"
     ]
    }
   ],
   "source": [
    "response = llm.invoke(\"I want to open a restaurant for Indian food. Suggest a fancy name for this\")\n",
    "print(response.content)"
   ]
  },
  {
   "cell_type": "code",
   "execution_count": 10,
   "id": "869d9697",
   "metadata": {},
   "outputs": [
    {
     "name": "stdout",
     "output_type": "stream",
     "text": [
      "Here are some fancy name suggestions for your Italian restaurant:\n",
      "\n",
      "1. **Bella Vita**: This name translates to \"beautiful life\" in Italian, evoking a sense of elegance and sophistication.\n",
      "2. **La Dolce Vita Ristorante**: This name combines the Italian phrase for \"the sweet life\" with the word \"ristorante,\" implying a high-end dining experience.\n",
      "3. **Tavola Italiana**: \"Tavola\" means \"table\" in Italian, and \"Italiana\" emphasizes the restaurant's focus on Italian cuisine.\n",
      "4. **Casa Bella Italia**: This name combines the Italian words for \"beautiful house\" and \"Italy,\" suggesting a warm and inviting atmosphere.\n",
      "5. **Il Giardino della Vita**: This name translates to \"the garden of life\" in Italian, implying a lush and vibrant dining experience.\n",
      "6. **Ristorante Fiorentino**: This name references the city of Florence, Italy, known for its rich culinary heritage and stunning architecture.\n",
      "7. **La Cucina Italiana**: This name emphasizes the restaurant's focus on traditional Italian cuisine and cooking techniques.\n",
      "8. **Bella Cucina**: This name combines the Italian words for \"beautiful\" and \"kitchen,\" suggesting a high-end dining experience with a focus on culinary excellence.\n",
      "9. **Il Ristorante Italiano**: This name emphasizes the restaurant's focus on traditional Italian cuisine and hospitality.\n",
      "10. **Vino e Cucina**: This name combines the Italian words for \"wine\" and \"kitchen,\" suggesting a restaurant that offers a wide selection of wines to pair with its delicious Italian dishes.\n",
      "\n",
      "I hope these suggestions help you find the perfect name for your Italian restaurant!\n"
     ]
    }
   ],
   "source": [
    "response = llm.invoke(\"I want to open a restaurant for Italian food. Suggest a fancy name for this\")\n",
    "print(response.content)"
   ]
  },
  {
   "cell_type": "code",
   "execution_count": 17,
   "id": "5146439a",
   "metadata": {},
   "outputs": [
    {
     "data": {
      "text/plain": [
       "'I want to open a restaurant for American food. Suggest only one fancy name for this'"
      ]
     },
     "execution_count": 17,
     "metadata": {},
     "output_type": "execute_result"
    }
   ],
   "source": [
    "from langchain.prompts import PromptTemplate\n",
    "\n",
    "prompt_template_name = PromptTemplate(\n",
    "    input_variables = ['cuisine'],\n",
    "    template = \"I want to open a restaurant for {cuisine} food. Suggest only one fancy name for this\"\n",
    ")\n",
    "\n",
    "prompt_template_name.format(cuisine = \"American\")"
   ]
  },
  {
   "cell_type": "code",
   "execution_count": 18,
   "id": "0d83f3ea",
   "metadata": {},
   "outputs": [
    {
     "data": {
      "text/plain": [
       "'Here\\'s a fancy name for an American restaurant:\\n\\n1. \"Liberty Bites\"'"
      ]
     },
     "execution_count": 18,
     "metadata": {},
     "output_type": "execute_result"
    }
   ],
   "source": [
    "from langchain.chains import LLMChain\n",
    "\n",
    "chain  = LLMChain(llm=llm, prompt = prompt_template_name)\n",
    "chain.run(\"American\")"
   ]
  },
  {
   "cell_type": "code",
   "execution_count": 20,
   "id": "b91a3043",
   "metadata": {},
   "outputs": [
    {
     "name": "stdout",
     "output_type": "stream",
     "text": [
      "I'm not aware of the current market data. However, NIFTY (National Stock Exchange of India's S&P CNX Nifty) is a widely followed stock market index in India. \n",
      "\n",
      "To get the current closing price of NIFTY, I recommend checking a reliable financial website or a news source that provides real-time market data, such as:\n",
      "\n",
      "- NSE India website (nseindia.com)\n",
      "- Bloomberg (bloomberg.com)\n",
      "- Reuters (reuters.com)\n",
      "- CNBC (cnbc.com)\n",
      "- Google Finance (finance.google.com)\n",
      "\n",
      "Please note that the information I provide is based on my cut-off knowledge date (December 2023). For the latest information, please visit these websites.\n"
     ]
    }
   ],
   "source": [
    "llm = ChatGroq(\n",
    "    model=\"llama-3.1-8b-instant\",\n",
    "    temperature=0.6,\n",
    "    groq_api_key = os.environ[\"GROQ_API_KEY\"]\n",
    "    # other params...\n",
    ")\n",
    "\n",
    "response = llm.invoke(\"where did nifty close today\")\n",
    "print(response.content)"
   ]
  },
  {
   "cell_type": "code",
   "execution_count": 21,
   "id": "4847ce9f",
   "metadata": {},
   "outputs": [],
   "source": [
    "prompt_template_name = PromptTemplate(\n",
    "    input_variables = ['cuisine'],\n",
    "    template = \"I want to open a restaurant for {cuisine} food. Suggest only one fancy name for this\"\n",
    ")\n",
    "\n",
    "name_chain = LLMChain(llm=llm, prompt = prompt_template_name)\n",
    "\n",
    "prompt_template_items = PromptTemplate(\n",
    "    input_variables= ['restaurant_name'],\n",
    "    template = \"\"\"suggest some menu items for {restaurant_name}. Return it as a comma separated list\"\"\"\n",
    "\n",
    ")\n",
    "\n",
    "food_items_chain = LLMChain(llm=llm, prompt = prompt_template_items)"
   ]
  },
  {
   "cell_type": "code",
   "execution_count": 24,
   "id": "181607e0",
   "metadata": {},
   "outputs": [
    {
     "name": "stdout",
     "output_type": "stream",
     "text": [
      "Here are some menu item suggestions for \"Bella Vita\" in a comma-separated list:\n",
      "\n",
      "Antipasto: Bruschetta with fresh tomatoes and basil, Grilled Peach and Prosciutto Salad, Fried Calamari with Spicy Aioli, Carpaccio di Manzo with arugula and Parmesan cheese.\n",
      "\n",
      "Primi: Spaghetti alla Carbonara with guanciale and parmesan, Fettuccine Alfredo with parmesan and parsley, Risotto alla Milanese with saffron and ossobuco, Pappardelle with wild boar ragù and porcini mushrooms.\n",
      "\n",
      "Secondi: Chicken Parmesan with spaghetti and marinara, Branzino al Forno with cherry tomatoes and herbs, Vitello alla Milanese with arugula and lemon, Pollo alla Cacciatora with mushrooms and bell peppers.\n",
      "\n",
      "Contorni: Sautéed Spinach with garlic and lemon, Roasted Asparagus with parmesan and prosciutto, Grilled Vegetables with balsamic glaze, Sauteed Broccoli Rabe with garlic and red pepper flakes.\n",
      "\n",
      "Dolci: Tiramisù with mascarpone and espresso, Panna Cotta with mixed berries and balsamic glaze, Gelato di Pistacchio with candied pistachios, Cannoli Siciliani with sweetened ricotta and chocolate chips.\n",
      "\n",
      "Caffè e Digestivi: Espresso con Panna, Caffè Macchiato, Limoncello, Grappa di Prosecco, and Amaro Nonino.\n"
     ]
    }
   ],
   "source": [
    "from langchain.chains import SimpleSequentialChain\n",
    "\n",
    "chain = SimpleSequentialChain(chains = [name_chain, food_items_chain])\n",
    "response = chain.run(\"Italian\")\n",
    "print(response)"
   ]
  },
  {
   "cell_type": "code",
   "execution_count": 25,
   "id": "2f7dc8cc",
   "metadata": {},
   "outputs": [],
   "source": [
    "llm = ChatGroq(\n",
    "    model=\"llama-3.1-8b-instant\",\n",
    "    temperature=0.7,\n",
    "    groq_api_key = os.environ[\"GROQ_API_KEY\"]\n",
    "    # other params...\n",
    ")\n",
    "\n"
   ]
  },
  {
   "cell_type": "code",
   "execution_count": null,
   "id": "f671a3f0",
   "metadata": {},
   "outputs": [],
   "source": [
    "prompt_template_name = PromptTemplate(\n",
    "    input_variables = ['cuisine'],\n",
    "    template = \"I want to open a restaurant for {cuisine} food. Suggest only one fancy name for this\"\n",
    ")\n",
    "\n",
    "name_chain = LLMChain(llm=llm, prompt = prompt_template_name, output_key = \"restaurant_name\")\n",
    "\n",
    "prompt_template_items = PromptTemplate(\n",
    "    input_variables= ['restaurant_name'],\n",
    "    template = \"\"\"suggest some menu items for {restaurant_name}. Return it as a comma separated list\"\"\"\n",
    "\n",
    ")\n",
    "\n",
    "food_items_chain = LLMChain(llm=llm, prompt = prompt_template_items, output_key = \"menu_items\")"
   ]
  },
  {
   "cell_type": "code",
   "execution_count": 31,
   "id": "160635bb",
   "metadata": {},
   "outputs": [
    {
     "data": {
      "text/plain": [
       "{'cuisine': 'Arabian',\n",
       " 'restaurant_name': 'Here\\'s a fancy name for your Arabian restaurant:\\n\\n1. \"Sahara Nights Bazaar\"\\n\\nThis name captures the essence of Arabian culture and evokes a sense of luxury and mystery, suggesting a sophisticated dining experience. \"Sahara Nights\" evokes the idea of the vast desert landscapes and the enchanting night skies, while \"Bazaar\" implies a vibrant marketplace where guests can explore a variety of flavors and aromas.',\n",
       " 'menu_items': \"Here are some menu item suggestions for Sahara Nights Bazaar:\\n\\nMains: \\nMoussaka Mansour (lamb and beef moussaka with sumac and spices), Jazirat Jambalaya (seafood jambalaya with saffron and cardamom), Shish Taouk el-Qamar (grilled chicken skewers with garlic and pomegranate), Falafel Fatah (crunchy falafel with creamy tahini sauce and pickled turnips), and Manti Meskoul (steamed dumplings filled with spiced lamb and topped with yogurt sauce).\\n\\nAppetizers: \\nBaba Ghanoush Bil-Karawya (smoked eggplant dip with walnuts and pomegranate molasses), Fattoush el-Harissa (crunchy bread salad with spicy harissa and lemon vinaigrette), Mu'ammar el-Sham (Middle Eastern-style stuffed grape leaves with rice and spices), Gormeh Sabzi (hearty herb stew with lamb and dried lime), and Zalabia Bil-Mahlabia (deep-fried doughnuts with rose water and mahleb syrup).\\n\\nDesserts: \\nMa'amoul Bil-Jam (shortbread cookies filled with dates and rose water), Baklava Bil-Asmar (flaky pastry with honey and pistachios), Ghoriba Bil-Karkade (rich chocolate cake with rose water and hibiscus), Kunafah Bil-Asali (shredded phyllo with cheese and honey), and Basbousa Bil-Rahab (semolina cake with cardamom and rose water).\\n\\nBeverages:\\nKarkade Bil-Shay (hibiscus tea with rose petals and lemon), Ahwa Bil-Qamar ( Middle Eastern-style coffee with cardamom and saffron), Sahlab Bil-Asali (hot milk drink with rose water and pistachio), and Zam Zam Bil-Jad (fresh coconut water with lime and mint).\"}"
      ]
     },
     "execution_count": 31,
     "metadata": {},
     "output_type": "execute_result"
    }
   ],
   "source": [
    "from langchain.chains import SequentialChain\n",
    "\n",
    "chain = SequentialChain(\n",
    "    chains = [name_chain, food_items_chain],\n",
    "    input_variables = ['cuisine'],\n",
    "    output_variables = ['restaurant_name', 'menu_items']\n",
    ")\n",
    "\n",
    "chain({'cuisine': 'Arabian'})"
   ]
  }
 ],
 "metadata": {
  "kernelspec": {
   "display_name": "myenv",
   "language": "python",
   "name": "python3"
  },
  "language_info": {
   "codemirror_mode": {
    "name": "ipython",
    "version": 3
   },
   "file_extension": ".py",
   "mimetype": "text/x-python",
   "name": "python",
   "nbconvert_exporter": "python",
   "pygments_lexer": "ipython3",
   "version": "3.11.0"
  }
 },
 "nbformat": 4,
 "nbformat_minor": 5
}
